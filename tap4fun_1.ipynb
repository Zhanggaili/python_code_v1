{
 "cells": [
  {
   "cell_type": "code",
   "execution_count": 1,
   "metadata": {},
   "outputs": [],
   "source": [
    "import pandas as pd\n",
    "\n",
    "data_train = pd.read_csv(\"tap_fun_train.csv\")\n",
    "#data_test = pd.read_csv(\"tap_fun_test.csv\")\n"
   ]
  },
  {
   "cell_type": "code",
   "execution_count": 23,
   "metadata": {},
   "outputs": [],
   "source": [
    "data_train['register_time_days'] = data_train.register_time.str[:10]\n",
    "\n",
    "data_train_df = pd.DataFrame(data_train['register_time_days'].value_counts()).sort_index()\n",
    "\n",
    "# 画图\n",
    "from pyecharts import Line\n",
    "\n",
    "line = Line(\"玩家数量统计-日\",title_top=\"50%\")\n",
    "line.add(\"玩家数量\", data_train_df.index, data_train_df['register_time_days'], \n",
    "         mark_line=[\"average\"], mark_point=[\"max\", \"min\"])\n",
    "\n",
    "line.render()\n"
   ]
  },
  {
   "cell_type": "code",
   "execution_count": 4,
   "metadata": {},
   "outputs": [
    {
     "name": "stdout",
     "output_type": "stream",
     "text": [
      "(41439, 110)\n",
      "0.0181113956382\n"
     ]
    }
   ],
   "source": [
    "import copy  \n",
    "data_pay_7 = copy.copy(data_train[data_train['pay_price']>0])\n",
    "print data_pay_7.shape   # (41439, 111)\n",
    "print (float(data_pay_7.shape[0])/float(data_train.shape[0]))  # 0.018111395638212645\n"
   ]
  },
  {
   "cell_type": "code",
   "execution_count": 24,
   "metadata": {},
   "outputs": [],
   "source": [
    "# ----------------------------- 统计，改列明（避免冲突），合并，计算比例\n",
    "data_pay_7_day_df = pd.DataFrame(data_pay_7['register_time_days'].value_counts()).sort_index()\n",
    "# print(data_pay_7_day_df)\n",
    "data_pay_7_day_df.rename(columns={'register_time_days':'pay_register_time_days'}, inplace = True)\n",
    "data_day_count = pd.concat([data_pay_7_day_df, data_train_df], axis=1)\n",
    "# print(data_day_count)\n",
    "data_day_count['pay_percent'] = data_day_count['pay_register_time_days']/data_day_count['register_time_days']\n",
    "# print(data_day_count)\n",
    "\n",
    "# ----------------------------- 画图\n",
    "from pyecharts import Overlap\n",
    "\n",
    "line3 = Line()\n",
    "line3.add(\"注册玩家数量\", data_day_count.index, data_day_count['register_time_days'], mark_line=[\"average\"], mark_point=[\"max\", \"min\"])\n",
    "\n",
    "line4 = Line()\n",
    "line4.add(\"7天内付费玩家数量\", data_day_count.index, data_day_count['pay_register_time_days'], mark_line=[\"average\"], \n",
    "          mark_point=[\"max\", \"min\"], yaxis_max=3000)\n",
    "\n",
    "overlap = Overlap()\n",
    "# 默认不新增 x y 轴，并且 x y 轴的索引都为 0\n",
    "overlap.add(line3)\n",
    "# 新增一个 y 轴，此时 y 轴的数量为 2，第二个 y 轴的索引为 1（索引从 0 开始），所以设置 yaxis_index = 1\n",
    "# 由于使用的是同一个 x 轴，所以 x 轴部分不用做出改变\n",
    "overlap.add(line4, yaxis_index=1, is_add_yaxis=True)\n",
    "overlap.render()"
   ]
  },
  {
   "cell_type": "code",
   "execution_count": null,
   "metadata": {},
   "outputs": [],
   "source": [
    "chongqian = data_train[data_train['prediction_pay_price']>0]\n",
    "fenzhong5 = data_train[data_train['avg_online_minutes']<5]\n",
    "chongqianyouwande = chongqian.merge(fenzhong5 , on = 'user_id')\n",
    "print chongqianyouwande"
   ]
  }
 ],
 "metadata": {
  "kernelspec": {
   "display_name": "Python 2",
   "language": "python",
   "name": "python2"
  },
  "language_info": {
   "codemirror_mode": {
    "name": "ipython",
    "version": 2
   },
   "file_extension": ".py",
   "mimetype": "text/x-python",
   "name": "python",
   "nbconvert_exporter": "python",
   "pygments_lexer": "ipython2",
   "version": "2.7.15"
  }
 },
 "nbformat": 4,
 "nbformat_minor": 2
}
